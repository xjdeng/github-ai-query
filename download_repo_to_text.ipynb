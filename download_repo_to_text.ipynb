{
  "nbformat": 4,
  "nbformat_minor": 0,
  "metadata": {
    "colab": {
      "provenance": [],
      "authorship_tag": "ABX9TyMTu+OdAU0RydpSJwMdmNYJ",
      "include_colab_link": true
    },
    "kernelspec": {
      "name": "python3",
      "display_name": "Python 3"
    },
    "language_info": {
      "name": "python"
    }
  },
  "cells": [
    {
      "cell_type": "markdown",
      "metadata": {
        "id": "view-in-github",
        "colab_type": "text"
      },
      "source": [
        "<a href=\"https://colab.research.google.com/github/xjdeng/github-ai-query/blob/main/download_repo_to_text.ipynb\" target=\"_parent\"><img src=\"https://colab.research.google.com/assets/colab-badge.svg\" alt=\"Open In Colab\"/></a>"
      ]
    },
    {
      "cell_type": "code",
      "execution_count": 1,
      "metadata": {
        "colab": {
          "base_uri": "https://localhost:8080/"
        },
        "id": "YbGIO7m0gylr",
        "outputId": "9be7a46a-4f5a-4f30-be22-f79c40142103"
      },
      "outputs": [
        {
          "output_type": "stream",
          "name": "stdout",
          "text": [
            "Collecting path.py==12.0.1\n",
            "  Downloading path.py-12.0.1-py3-none-any.whl.metadata (5.8 kB)\n",
            "Requirement already satisfied: importlib-metadata>=0.5 in /usr/local/lib/python3.10/dist-packages (from path.py==12.0.1) (8.5.0)\n",
            "Requirement already satisfied: zipp>=3.20 in /usr/local/lib/python3.10/dist-packages (from importlib-metadata>=0.5->path.py==12.0.1) (3.21.0)\n",
            "Downloading path.py-12.0.1-py3-none-any.whl (19 kB)\n",
            "Installing collected packages: path.py\n",
            "Successfully installed path.py-12.0.1\n"
          ]
        }
      ],
      "source": [
        "!pip install path.py==12.0.1\n",
        "from path import Path as path\n",
        "import os\n",
        "from google.colab import files\n",
        "\n",
        "def generate_tree(directory, prefix=\"\"):\n",
        "\n",
        "    tree = []\n",
        "    entries = sorted(os.listdir(directory))  # Sort entries for consistent order\n",
        "\n",
        "    for index, entry in enumerate(entries):\n",
        "        path = os.path.join(directory, entry)\n",
        "        is_last = (index == len(entries) - 1)\n",
        "\n",
        "        if is_last:\n",
        "            tree.append(f\"{prefix}└── {entry}\")\n",
        "            next_prefix = f\"{prefix}    \"\n",
        "        else:\n",
        "            tree.append(f\"{prefix}├── {entry}\")\n",
        "            next_prefix = f\"{prefix}│   \"\n",
        "\n",
        "        if os.path.isdir(path):\n",
        "            tree.append(generate_tree(path, next_prefix))\n",
        "    return \"\\n\".join(tree)\n",
        "\n",
        "def get_repo(repo_url, refresh = False):\n",
        "  if repo_url.lower().endswith(\".git\"):\n",
        "    repo_url = repo_url[:-4]\n",
        "  local_repo_dir = str(path(repo_url).name)\n",
        "  if refresh:\n",
        "    !rm -rf $local_repo_dir\n",
        "  if not path(local_repo_dir).exists():\n",
        "    !git clone $repo_url\n",
        "  files_to_open = []\n",
        "  for f in path(local_repo_dir).walkfiles():\n",
        "    if (f.ext == \".py\") or (f.ext == \".md\") or (f.ext == \".txt\"):\n",
        "      files_to_open.append(f)\n",
        "  prompt = f\"\"\"\n",
        "\n",
        "  File structure:\n",
        "  ---\n",
        "  {generate_tree(local_repo_dir)}\n",
        "  ---\n",
        "\n",
        "  Next, I'll give you the contents of each file in the following section -\n",
        "  *************************************************************************\n",
        "\n",
        "  \"\"\"\n",
        "  for f in files_to_open:\n",
        "    with open(f,'r') as ff:\n",
        "      contents = ff.read()\n",
        "    prompt += f\"\"\"\n",
        "    {str(f.name)}:\n",
        "    ---\n",
        "    {contents}\n",
        "    ---\n",
        "\n",
        "    \"\"\"\n",
        "  prompt += \"*************************************************************************\"\n",
        "  outfile = f\"{local_repo_dir}.txt\"\n",
        "  with open(outfile,'w') as f:\n",
        "    f.write(prompt)\n",
        "  files.download(outfile)\n"
      ]
    },
    {
      "cell_type": "code",
      "source": [
        "get_repo(\"https://github.com/run-llama/llama_index\")"
      ],
      "metadata": {
        "colab": {
          "base_uri": "https://localhost:8080/",
          "height": 156
        },
        "id": "DcqUJYsoh4EC",
        "outputId": "8cffe8f5-3dcc-4664-fb77-f34747b62c47"
      },
      "execution_count": 2,
      "outputs": [
        {
          "output_type": "stream",
          "name": "stdout",
          "text": [
            "Cloning into 'llama_index'...\n",
            "remote: Enumerating objects: 110685, done.\u001b[K\n",
            "remote: Counting objects: 100% (6746/6746), done.\u001b[K\n",
            "remote: Compressing objects: 100% (387/387), done.\u001b[K\n",
            "remote: Total 110685 (delta 6490), reused 6416 (delta 6335), pack-reused 103939 (from 1)\u001b[K\n",
            "Receiving objects: 100% (110685/110685), 237.95 MiB | 24.47 MiB/s, done.\n",
            "Resolving deltas: 100% (76667/76667), done.\n",
            "Updating files: 100% (10765/10765), done.\n"
          ]
        },
        {
          "output_type": "display_data",
          "data": {
            "text/plain": [
              "<IPython.core.display.Javascript object>"
            ],
            "application/javascript": [
              "\n",
              "    async function download(id, filename, size) {\n",
              "      if (!google.colab.kernel.accessAllowed) {\n",
              "        return;\n",
              "      }\n",
              "      const div = document.createElement('div');\n",
              "      const label = document.createElement('label');\n",
              "      label.textContent = `Downloading \"${filename}\": `;\n",
              "      div.appendChild(label);\n",
              "      const progress = document.createElement('progress');\n",
              "      progress.max = size;\n",
              "      div.appendChild(progress);\n",
              "      document.body.appendChild(div);\n",
              "\n",
              "      const buffers = [];\n",
              "      let downloaded = 0;\n",
              "\n",
              "      const channel = await google.colab.kernel.comms.open(id);\n",
              "      // Send a message to notify the kernel that we're ready.\n",
              "      channel.send({})\n",
              "\n",
              "      for await (const message of channel.messages) {\n",
              "        // Send a message to notify the kernel that we're ready.\n",
              "        channel.send({})\n",
              "        if (message.buffers) {\n",
              "          for (const buffer of message.buffers) {\n",
              "            buffers.push(buffer);\n",
              "            downloaded += buffer.byteLength;\n",
              "            progress.value = downloaded;\n",
              "          }\n",
              "        }\n",
              "      }\n",
              "      const blob = new Blob(buffers, {type: 'application/binary'});\n",
              "      const a = document.createElement('a');\n",
              "      a.href = window.URL.createObjectURL(blob);\n",
              "      a.download = filename;\n",
              "      div.appendChild(a);\n",
              "      a.click();\n",
              "      div.remove();\n",
              "    }\n",
              "  "
            ]
          },
          "metadata": {}
        },
        {
          "output_type": "display_data",
          "data": {
            "text/plain": [
              "<IPython.core.display.Javascript object>"
            ],
            "application/javascript": [
              "download(\"download_75a4e9c5-752d-47bf-a2ef-0a3e2efc73f3\", \"llama_index.txt\", 15738534)"
            ]
          },
          "metadata": {}
        }
      ]
    },
    {
      "cell_type": "code",
      "source": [],
      "metadata": {
        "id": "LCMnufEUiA_G"
      },
      "execution_count": null,
      "outputs": []
    }
  ]
}